{
 "cells": [
  {
   "cell_type": "markdown",
   "id": "91dce2b6",
   "metadata": {},
   "source": [
    "# task\n"
   ]
  },
  {
   "cell_type": "code",
   "execution_count": 3,
   "id": "eda19b17",
   "metadata": {},
   "outputs": [
    {
     "name": "stdout",
     "output_type": "stream",
     "text": [
      "the name: sara\n",
      "the age: 34\n",
      "Hi,sara in 2091 you will turn 100 years old.\n"
     ]
    }
   ],
   "source": [
    "name=input(\"inter your name:\")\n",
    "print(\"the name:\",name)\n",
    "age=int(input(\"inter your age:\"))\n",
    "print(\"the age:\",age)\n",
    "import datetime as dt \n",
    "current_year=dt.datetime.now().year\n",
    "#print a message to the user that tells them the year they will turn 100 year \n",
    "year_100=(100-age)+current_year\n",
    "print(f\"Hi,{name} in {year_100} you will turn 100 years old.\")"
   ]
  },
  {
   "cell_type": "markdown",
   "id": "f6cfbc44",
   "metadata": {},
   "source": [
    "# task 2"
   ]
  },
  {
   "cell_type": "code",
   "execution_count": null,
   "id": "8fbe6b57",
   "metadata": {},
   "outputs": [
    {
     "name": "stdout",
     "output_type": "stream",
     "text": [
      "the number you guessed is too low\n",
      "The randam number is : 7\n",
      "the number you guessed exactly the same\n",
      "The randam number is : 7\n",
      "the number you guessed exactly the same\n",
      "The randam number is : 7\n",
      "the number you guessed exactly the same\n",
      "The randam number is : 7\n",
      "the number you guessed exactly the same\n",
      "The randam number is : 7\n"
     ]
    }
   ],
   "source": [
    "#generate a randnon number between 1 and 9 \n",
    "import random as rn\n",
    "rand_number =rn.randint(1,10)\n",
    "#ask the user to guess the number,\n",
    "#keep the gane going buntil the juser hit exit\n",
    "count=0\n",
    "while True:\n",
    " user_number=input(\"enter a number, or write exit to stop the game\")\n",
    " if user_number.lower() ==\"exit\":\n",
    "    print(\"you stoped playing!\")\n",
    "    print(count)\n",
    "    break\n",
    " else:\n",
    "#then tell them whether they guessed too low, too high, or exactly same.\n",
    "  guess=int(user_number)\n",
    "  count+=1\n",
    " if (guess<rand_number):\n",
    "   print(\"the number you guessed is too low\")\n",
    " elif (guess<rand_number):\n",
    "   print(\"the number you guessed is too high\")\n",
    " else: print(\"the number you guessed exactly the same\")\n",
    " \n",
    " print(f\"The randam number is :\",rand_number)"
   ]
  },
  {
   "cell_type": "markdown",
   "id": "77e35de2",
   "metadata": {},
   "source": [
    "# task3\n"
   ]
  },
  {
   "cell_type": "code",
   "execution_count": 2,
   "id": "c4e38476",
   "metadata": {},
   "outputs": [
    {
     "name": "stdout",
     "output_type": "stream",
     "text": [
      "Liste a: [5, 10, 15, 20, 25]\n",
      "New list: [5, 25]\n"
     ]
    }
   ],
   "source": [
    "#write a program that takes a list of  numbers \n",
    "list_a=[5,10,15,20,25]\n",
    "def first_last_list(list_a):\n",
    "    # Return a list with the first and last elements\n",
    "    return [list_a[0], list_a[-1]]\n",
    "\n",
    "\n",
    "result = first_last_list(list_a)\n",
    "print(\"Liste a:\",list_a)\n",
    "print(\"New list:\", result) "
   ]
  },
  {
   "cell_type": "markdown",
   "id": "a2fc9ee2",
   "metadata": {},
   "source": [
    "# task4"
   ]
  },
  {
   "cell_type": "code",
   "execution_count": 3,
   "id": "bb51a41b",
   "metadata": {},
   "outputs": [
    {
     "name": "stdout",
     "output_type": "stream",
     "text": [
      "1]K_w7XL\n"
     ]
    }
   ],
   "source": [
    "#write how generat a strong password \n",
    "import random\n",
    "import string\n",
    "def generate_password(length, strength):\n",
    "    \"\"\"input:length of password \n",
    "    output: a random password of the given length\"\"\"\n",
    " #list of weak password\n",
    "    lst=[\"password\",\"123456789\",\"hiba\",\"ziouani\"]\n",
    " #check the strength of the password\n",
    "    if strength.lower()== \"weak\":\n",
    "        return random.choice(lst)    \n",
    "    else:\n",
    "        length=int(length)\n",
    "        characters=string.ascii_letters+string.digits+string.punctuation\n",
    "        password=''.join(random.choice(characters) for i in range(length))\n",
    "        return password\n",
    "   \n",
    "print(generate_password(8,\"strong\"))"
   ]
  }
 ],
 "metadata": {
  "kernelspec": {
   "display_name": "base",
   "language": "python",
   "name": "python3"
  },
  "language_info": {
   "codemirror_mode": {
    "name": "ipython",
    "version": 3
   },
   "file_extension": ".py",
   "mimetype": "text/x-python",
   "name": "python",
   "nbconvert_exporter": "python",
   "pygments_lexer": "ipython3",
   "version": "3.13.5"
  }
 },
 "nbformat": 4,
 "nbformat_minor": 5
}
