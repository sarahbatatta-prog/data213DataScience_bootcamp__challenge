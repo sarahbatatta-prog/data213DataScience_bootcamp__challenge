{
 "cells": [
  {
   "cell_type": "markdown",
   "id": "fa3756fd",
   "metadata": {},
   "source": [
    "## Weather Data Analysis Exercise\n",
    "File Description\n",
    "This file contains **10 lines of weather data**, following the format below:\n",
    "### Objective\n",
    "- Read the data from the file.  \n",
    "- Calculate the **average maximum temperature**, **average minimum temperature**, and **total precipitation** for the given period.  \n",
    "- Determine the **number of rainy days** (`precipitation > 0`).  \n",
    "- Find the **highest** and **lowest** recorded temperatures.\n",
    "\n",
    "### Constraints\n",
    "- Use only Python's **basic data structures** (`lists`, `dictionaries`).  \n",
    "- **Do not** use external libraries like **NumPy**.\n",
    "\n",
    "### Hints\n",
    "- Use the `split()` function to separate data in the file.  \n",
    "- Use **control structures** (loops, conditions) to process the data."
   ]
  },
  {
   "cell_type": "code",
   "execution_count": 11,
   "id": "fea5f212",
   "metadata": {},
   "outputs": [
    {
     "name": "stdout",
     "output_type": "stream",
     "text": [
      "['2023-11-01,15,5,0.2\\n', '2023-11-02,17,7,1.5\\n', '2023-11-03,12,3,0\\n', '2023-11-04,18,6,0.8\\n', '2023-11-05,14,4,3.2\\n', '2023-11-06,16,8,0\\n', '2023-11-07,13,2,0.5\\n', '2023-11-08,19,9,2.1\\n', '2023-11-09,11,1,0.3\\n', '2023-11-10,17,6,1.2']\n"
     ]
    }
   ],
   "source": [
    "file_path=\"weather_data.txt\"\n",
    "with open(file_path, 'r') as file:\n",
    "        lines = file.readlines() \n",
    "        print(lines)"
   ]
  },
  {
   "cell_type": "code",
   "execution_count": 12,
   "id": "99c0af7c",
   "metadata": {},
   "outputs": [],
   "source": [
    "lines = [line.strip() for line in lines]"
   ]
  },
  {
   "cell_type": "code",
   "execution_count": 13,
   "id": "37a52de2",
   "metadata": {},
   "outputs": [
    {
     "name": "stdout",
     "output_type": "stream",
     "text": [
      "['2023-11-01,15,5,0.2', '2023-11-02,17,7,1.5', '2023-11-03,12,3,0', '2023-11-04,18,6,0.8', '2023-11-05,14,4,3.2', '2023-11-06,16,8,0', '2023-11-07,13,2,0.5', '2023-11-08,19,9,2.1', '2023-11-09,11,1,0.3', '2023-11-10,17,6,1.2']\n"
     ]
    }
   ],
   "source": [
    "print(lines)"
   ]
  },
  {
   "cell_type": "code",
   "execution_count": 14,
   "id": "94d67368",
   "metadata": {},
   "outputs": [
    {
     "data": {
      "text/plain": [
       "['2023-11-01,15,5,0', '2']"
      ]
     },
     "execution_count": 14,
     "metadata": {},
     "output_type": "execute_result"
    }
   ],
   "source": [
    "lines[0].split('.')"
   ]
  },
  {
   "cell_type": "code",
   "execution_count": 80,
   "id": "f73dfaf5",
   "metadata": {},
   "outputs": [
    {
     "ename": "_IncompleteInputError",
     "evalue": "incomplete input (4193686203.py, line 25)",
     "output_type": "error",
     "traceback": [
      "\u001b[1;36m  Cell \u001b[1;32mIn[80], line 25\u001b[1;36m\u001b[0m\n\u001b[1;33m    \"\"\"Filename: The name of the weather data file.\u001b[0m\n\u001b[1;37m    ^\u001b[0m\n\u001b[1;31m_IncompleteInputError\u001b[0m\u001b[1;31m:\u001b[0m incomplete input\n"
     ]
    }
   ],
   "source": [
    "temperatures =[]\n",
    "max_temperatures=[]\n",
    "min_temperatures=[]\n",
    "precipitation=[]\n",
    "\n",
    "for line in lines[0:]:\n",
    "    \n",
    "    data = line.strip().split(',')\n",
    "    max_temperatures.append(float(data[1]))\n",
    "    min_temperatures.append(float(data[2]))\n",
    "    precipitation.append(float(data[3]))\n",
    "    \n",
    "    num_precipitation_day = sum(1 for p in precipitation if p > 0)\n",
    "\n",
    "\n",
    "print(max_temperatures)\n",
    "print(min_temperatures)\n",
    "print(precipitation)\n",
    "print(num_precipitation_day)\n",
    "print(\"Average max temperature:\", sum(max_temperatures)/len(max_temperatures))\n",
    "print(\"Average min temperature:\", sum(min_temperatures)/len(min_temperatures))\n",
    "print(\"Total precipitation:\", sum(precipitation))\n",
    "print(\"data est :'\", lines)\n",
    "def analyze_data(data):\n",
    "\"\"\"Filename: The name of the weather data file.\n",
    " Returns:\n",
    "    A tuple containing:\n",
    "    - Average maximum temperature\n",
    "    - Average minimum temperature\n",
    "    - Total precipitation\n",
    "    - Number of rainy days\n",
    "    - Maximum temperature\n",
    "    - Minimum temperature\n",
    "    temperature = []\n",
    "    max_temp = []\n",
    "    min_temp = []\n",
    "\n",
    "    for line in data[1:]:\n",
    "    data = line.strip().split('.')\n",
    "    max_temp.append(float(data[1]))\n",
    "    min_temp.append(float(data[2]))\n",
    "\n"
   ]
  },
  {
   "cell_type": "code",
   "execution_count": 81,
   "id": "df4bea60",
   "metadata": {},
   "outputs": [],
   "source": [
    "def analyze_weather_data(file_path):\n",
    "    \"\"\"Analyzes weather data from a given file.\n",
    "        Args: \n",
    "            Filename: The name of the weather data file.\n",
    "        Returns:\n",
    "            A tuple containing:\n",
    "                - Average maximum temperature\n",
    "                - Average minimum temperature\n",
    "                - Total precipitation\n",
    "                - Number of rainy days\n",
    "                - Maximum temperature\n",
    "                - Minimum temperature\"\"\"   \n",
    "    with open(file_path, 'r') as file:\n",
    "        lines = file.readlines()\n",
    "\n",
    "        \n",
    "    num_precipitation=0\n",
    "    max_temperature = []\n",
    "    min_temperature = []\n",
    "    precipitation = []\n",
    "\n",
    "    for line in lines[0:]:\n",
    "        weather_data=line.split(',')\n",
    "  \n",
    "        max_temperature.append(float(weather_data[1]))\n",
    "\n",
    "        min_temperature.append(float(weather_data[2]))\n",
    "        precipitation.append(float(weather_data[3]))\n",
    "\n",
    "        \n",
    "        if float(weather_data[3])> 0 :\n",
    "         num_precipitation +=1\n",
    "\n",
    "    averege_max = sum(max_temperature) / len(max_temperature)\n",
    "    averege_min = sum(min_temperature) / len(min_temperature)\n",
    "    total_precipitation = sum(precipitation)\n",
    "\n",
    "    max_temperature=max(max_temperature)\n",
    "    min_temperature=min(min_temperature)\n",
    "    return {\n",
    "        \"max_temperature\" : max_temperature,\n",
    "        \"min_temperature\": min_temperature,\n",
    "        \n",
    "        \"average_max_temperature\": averege_max,\n",
    "        \"average_min_temperature\": averege_min ,\n",
    "        \"total_precipitation\": total_precipitation,\n",
    "        \"rainy_days\": num_precipitation,\n",
    "        \"max_temperature\": max_temperature,\n",
    "        \"min_temperature\": min_temperature\n",
    "    }    \n",
    "\n"
   ]
  },
  {
   "cell_type": "code",
   "execution_count": 82,
   "id": "2eb3f37c",
   "metadata": {},
   "outputs": [
    {
     "data": {
      "text/plain": [
       "{'max_temperature': 19.0,\n",
       " 'min_temperature': 1.0,\n",
       " 'average_max_temperature': 15.2,\n",
       " 'average_min_temperature': 5.1,\n",
       " 'total_precipitation': 9.8,\n",
       " 'rainy_days': 8}"
      ]
     },
     "execution_count": 82,
     "metadata": {},
     "output_type": "execute_result"
    }
   ],
   "source": [
    "file_path='weather_data.txt'\n",
    "analyze_weather_data(file_path)"
   ]
  }
 ],
 "metadata": {
  "kernelspec": {
   "display_name": "base",
   "language": "python",
   "name": "python3"
  },
  "language_info": {
   "codemirror_mode": {
    "name": "ipython",
    "version": 3
   },
   "file_extension": ".py",
   "mimetype": "text/x-python",
   "name": "python",
   "nbconvert_exporter": "python",
   "pygments_lexer": "ipython3",
   "version": "3.13.5"
  }
 },
 "nbformat": 4,
 "nbformat_minor": 5
}
